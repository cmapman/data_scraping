{
  "nbformat": 4,
  "nbformat_minor": 0,
  "metadata": {
    "colab": {
      "name": "Tlgrm_data.ipynb",
      "provenance": [],
      "collapsed_sections": []
    },
    "kernelspec": {
      "name": "python3",
      "display_name": "Python 3"
    },
    "language_info": {
      "name": "python"
    }
  },
  "cells": [
    {
      "cell_type": "markdown",
      "source": [
        "##Downloading data from Telegram"
      ],
      "metadata": {
        "id": "oibq5Oku-9Ix"
      }
    },
    {
      "cell_type": "code",
      "execution_count": null,
      "metadata": {
        "id": "7MHMH3z0-3Ed"
      },
      "outputs": [],
      "source": [
        "from asyncio import run\n",
        "from telethon import TelegramClient, events, sync, functions, types, errors\n",
        "import pandas as pd\n",
        "import datetime as dt"
      ]
    },
    {
      "cell_type": "code",
      "source": [
        "#We need to get api_id and api_hash, you can do that here: https://my.telegram.org\n",
        "API_ID = 0\n",
        "API_HASH = ''"
      ],
      "metadata": {
        "id": "pgSjM1dB_NDB"
      },
      "execution_count": null,
      "outputs": []
    },
    {
      "cell_type": "markdown",
      "source": [
        "Telethon is based on the built-in asyncio library, so all of its methods are asynchronous. Keep this in mind when using it.\n",
        "The documentation has a section devoted to this: https://docs.telethon.dev/en/stable/concepts/asyncio.html"
      ],
      "metadata": {
        "id": "6P9aPsrr_R6Y"
      }
    },
    {
      "cell_type": "code",
      "source": [
        "async def main():\n",
        "    # Authorization\n",
        "    client = TelegramClient('me_session', API_ID, API_HASH,\n",
        "                            lang_code='en', system_lang_code='en')\n",
        "    await client.start()\n",
        "\n",
        "    # Getting channel profiles\n",
        "    result = await client(functions.channels.GetChannelsRequest(id=['@newyorktimes', '@science', '@memes']))\n",
        "    # Convert query result to a list of dictionaries\n",
        "    chnls = [c.to_dict() for c in result.chats]\n",
        "    # Create a dataframe and write it to CSV\n",
        "    df_channels = pd.DataFrame(chnls)\n",
        "    df_channels.to_csv('tlgrm_channels.csv', sep=';')\n",
        "\n",
        "    # Downloading messages\n",
        "    # Specify the date from which we want to receive messages. Parameter reverse=False changes the date to \"till what day\".\n",
        "    min_date = dt.datetime(2022, 4, 22, 0, 0, 0)\n",
        "    # Getting the first 10 messages since April 22, 2022, in chronological order\n",
        "    result = await client.get_messages('@science', max_id=0, min_id=0, reverse=True, offset_date=min_date, limit=10)\n",
        "    # Do the same conversion procedure as with the channels\n",
        "    msgs = [msg.to_dict() for msg in result]\n",
        "    df_messages = pd.DataFrame(msgs)\n",
        "    df_messages.to_csv('tlgrm_messages.csv', sep=';')\n",
        "\n",
        "    # Disconnecting\n",
        "    await client.disconnect()\n",
        "\n",
        "\n",
        "run(main())"
      ],
      "metadata": {
        "id": "404iGrY-_TBp"
      },
      "execution_count": null,
      "outputs": []
    }
  ]
}